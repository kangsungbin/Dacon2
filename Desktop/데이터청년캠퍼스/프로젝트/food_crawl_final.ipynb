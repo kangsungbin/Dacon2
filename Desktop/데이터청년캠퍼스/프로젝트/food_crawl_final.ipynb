{
 "cells": [
  {
   "cell_type": "code",
   "execution_count": null,
   "metadata": {},
   "outputs": [],
   "source": [
    "import sqlite3\n",
    "from PIL import Image\n",
    "con = sqlite3.connect('food_image.db')\n",
    "cur = con.cursor()\n",
    "cur.executescript('''\n",
    "    DROP TABLE IF EXISTS food_image;\n",
    "    CREATE TABLE food_image(\n",
    "        FOOD_NAME    TEXT,\n",
    "        FOOD_IMAGE    TEXT\n",
    "    );\n",
    "''')\n",
    "flist = ['52','53','54','55','56']\n",
    "from selenium import webdriver\n",
    "from selenium.webdriver.common.keys import Keys\n",
    "from selenium.common.exceptions import StaleElementReferenceException\n",
    "import time\n",
    "driver = webdriver.Chrome('C:/Users/KangMae/Desktop/데이터청년캠퍼스/chromedriver_win32/chromedriver.exe')\n",
    "\n",
    "for search_list in flist:\n",
    "    driver.get('http://lovinghut.co.kr/product/list.html?cate_no='+ search_list)\n",
    "    time.sleep(4)\n",
    "    if not driver.find_elements_by_css_selector('div > p[class=\"prdImg\"]> a > img '):\n",
    "        continue\n",
    "    for _ in driver.find_elements_by_css_selector('div > p[class=\"prdImg\"]> a >img'):\n",
    "                cur.execute('''\n",
    "            INSERT INTO food_image(FOOD_NAME, FOOD_IMAGE)\n",
    "            VALUES(?,?)''' ,[_.get_attribute('alt'),_.get_attribute('src')]\n",
    "        )\n",
    "    num_of_pagedowns = 4\n",
    "    time.sleep(3)\n",
    "    while num_of_pagedowns:\n",
    "        try:\n",
    "            body = driver.find_element_by_tag_name('body')\n",
    "            body.send_keys(Keys.END)\n",
    "            time.sleep(4)\n",
    "            num_of_pagedowns -= 1\n",
    "            driver.find_element_by_xpath('//*[@id=\"contents\"]/div[3]/p[3]/a/img').click()\n",
    "            time.sleep(3)\n",
    "        except StaleElementReferenceException:\n",
    "            pass\n",
    "#con.commit()\n",
    "#driver.close()"
   ]
  },
  {
   "cell_type": "code",
   "execution_count": null,
   "metadata": {},
   "outputs": [],
   "source": []
  },
  {
   "cell_type": "code",
   "execution_count": null,
   "metadata": {},
   "outputs": [],
   "source": []
  }
 ],
 "metadata": {
  "kernelspec": {
   "display_name": "Python 3",
   "language": "python",
   "name": "python3"
  },
  "language_info": {
   "codemirror_mode": {
    "name": "ipython",
    "version": 3
   },
   "file_extension": ".py",
   "mimetype": "text/x-python",
   "name": "python",
   "nbconvert_exporter": "python",
   "pygments_lexer": "ipython3",
   "version": "3.6.10"
  }
 },
 "nbformat": 4,
 "nbformat_minor": 4
}
